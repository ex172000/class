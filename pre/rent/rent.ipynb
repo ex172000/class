{
 "cells": [
  {
   "cell_type": "code",
   "execution_count": null,
   "metadata": {},
   "outputs": [],
   "source": [
    "import sys\n",
    "!{sys.executable} -m pip install numpy wheel pandas matplotlib seaborn\n",
    "\n",
    "import math\n",
    "import pandas as pd\n",
    "import numpy as np\n",
    "import matplotlib.pyplot as plt\n",
    "import seaborn as sns\n",
    "from pandas.io.json import json_normalize\n",
    "from pylab import mpl\n",
    "import matplotlib.font_manager as font_manager \n",
    "\n",
    "font_dirs = ['.']\n",
    "font_files = font_manager.findSystemFonts(fontpaths=font_dirs)\n",
    "font_list = font_manager.createFontList(font_files)\n",
    "font_manager.fontManager.ttflist.extend(font_list)\n",
    "plt.rcParams['font.family'] = 'SimHei'\n",
    "plt.rc('figure', figsize=(10, 10))  #把plt默认的图片size调大一点\n",
    "plt.rcParams[\"figure.dpi\"] =mpl.rcParams['axes.unicode_minus'] = False # 解决保存图像是负号'-'显示为方块的问题\n",
    "%matplotlib inline"
   ]
  },
  {
   "cell_type": "markdown",
   "metadata": {},
   "source": [
    "# 数据清理"
   ]
  },
  {
   "cell_type": "code",
   "execution_count": null,
   "metadata": {},
   "outputs": [],
   "source": [
    "data = pd.read_csv('data_sample.csv')"
   ]
  },
  {
   "cell_type": "code",
   "execution_count": null,
   "metadata": {},
   "outputs": [],
   "source": [
    "# 1. 去掉“_id”列\n",
    "data = data.drop(columns='_id')"
   ]
  },
  {
   "cell_type": "code",
   "execution_count": null,
   "metadata": {},
   "outputs": [],
   "source": [
    "# 2. 卫生间数量\n",
    "data['bathroom_num'].unique()"
   ]
  },
  {
   "cell_type": "code",
   "execution_count": null,
   "metadata": {},
   "outputs": [],
   "source": [
    "data[data['bathroom_num'].isin(['8','9','11'])]"
   ]
  },
  {
   "cell_type": "code",
   "execution_count": null,
   "metadata": {},
   "outputs": [],
   "source": [
    "# 3. 卧室数量\n",
    "data['bedroom_num'].unique()"
   ]
  },
  {
   "cell_type": "code",
   "execution_count": null,
   "metadata": {
    "scrolled": true
   },
   "outputs": [],
   "source": [
    "# 没有异常数据，只是很多10室以上都是专门用来合租的\n",
    "data[data['bedroom_num'].isin(['10','11','12','13','14','15','20'])]"
   ]
  },
  {
   "cell_type": "code",
   "execution_count": null,
   "metadata": {},
   "outputs": [],
   "source": [
    "# 4. 厅的数量\n",
    "data['hall_num'].unique()"
   ]
  },
  {
   "cell_type": "code",
   "execution_count": null,
   "metadata": {},
   "outputs": [],
   "source": [
    "# 5. 面积\n",
    "data.sample(5)['rent_area']"
   ]
  },
  {
   "cell_type": "code",
   "execution_count": null,
   "metadata": {},
   "outputs": [],
   "source": [
    "# rent_area字段有些填写的是一个范围，比如23-25平房米，后期转换成“float”类型的时候不好转换，考虑取平均值\n",
    "def get_aver(data):\n",
    "    if isinstance(data, str) and '-' in data:\n",
    "        low, high = data.split('-')\n",
    "        return (int(low)+int(high))/2\n",
    "    else:\n",
    "        return int(data)\n",
    "\n",
    "\n",
    "data['rent_area'] = data['rent_area'].apply(get_aver)"
   ]
  },
  {
   "cell_type": "code",
   "execution_count": null,
   "metadata": {},
   "outputs": [],
   "source": [
    "# 房间只有1平米，是异常数据，删去\n",
    "data = data.drop(data[data['rent_area'] < 5].index)"
   ]
  },
  {
   "cell_type": "code",
   "execution_count": null,
   "metadata": {},
   "outputs": [],
   "source": [
    "# 6. 计价单位\n",
    "data['rent_price_unit'].unique()"
   ]
  },
  {
   "cell_type": "code",
   "execution_count": null,
   "metadata": {},
   "outputs": [],
   "source": [
    "# 租金都是以“元/月”计算的，所以这一列没用了，可以删了\n",
    "data = data.drop(columns='rent_price_unit')"
   ]
  },
  {
   "cell_type": "code",
   "execution_count": null,
   "metadata": {},
   "outputs": [],
   "source": [
    "# 7. rent_price_listing\n",
    "data[data['rent_price_listing'].str.contains('-')].sample(3)"
   ]
  },
  {
   "cell_type": "code",
   "execution_count": null,
   "metadata": {},
   "outputs": [],
   "source": [
    "# 价格是有区间的，需要按照处理rent_area一样的方法处理\n",
    "data['rent_price_listing'] = data['rent_price_listing'].apply(get_aver)"
   ]
  },
  {
   "cell_type": "code",
   "execution_count": null,
   "metadata": {},
   "outputs": [],
   "source": [
    "# 数据类型转换\n",
    "for col in ['bathroom_num', 'bedroom_num', 'hall_num', 'rent_price_listing']:\n",
    "    data[col] = data[col].astype(int)"
   ]
  },
  {
   "cell_type": "code",
   "execution_count": null,
   "metadata": {},
   "outputs": [],
   "source": [
    "# 'distance', 'latitude', 'longitude'因为有None，需另外处理\n",
    "def dw_None_dis(data):\n",
    "    if data is None or data == '' or math.isnan(data):\n",
    "        return np.nan\n",
    "    else:\n",
    "        return int(data)\n",
    "    \n",
    "\n",
    "def dw_None_latlon(data):\n",
    "    if data is None or data == '':\n",
    "        return np.nan\n",
    "    else:\n",
    "        return float(data)            \n",
    "\n",
    "\n",
    "data['distance'] = data['distance'].apply(dw_None_dis)\n",
    "data['latitude'] = data['latitude'].apply(dw_None_latlon)\n",
    "data['longitude'] = data['longitude'].apply(dw_None_latlon)"
   ]
  },
  {
   "cell_type": "code",
   "execution_count": null,
   "metadata": {},
   "outputs": [],
   "source": [
    "# 查看数据概况\n",
    "data.sample(5)"
   ]
  },
  {
   "cell_type": "code",
   "execution_count": null,
   "metadata": {},
   "outputs": [],
   "source": [
    "data.info()"
   ]
  },
  {
   "cell_type": "code",
   "execution_count": null,
   "metadata": {},
   "outputs": [],
   "source": [
    "data.to_csv('data_clean.csv', index=False)"
   ]
  },
  {
   "cell_type": "markdown",
   "metadata": {},
   "source": [
    "# 问题：\n",
    "1. 各城市的租房分布怎么样？\n",
    "2. 城市各区域的房价分布怎么样？\n",
    "3. 房屋大小对价格的影响如何？"
   ]
  },
  {
   "cell_type": "markdown",
   "metadata": {},
   "source": [
    "### 1. 各城市的租房分布怎么样？"
   ]
  },
  {
   "cell_type": "code",
   "execution_count": null,
   "metadata": {},
   "outputs": [],
   "source": [
    "def get_city_zf_loc(city, city_short, col=['longitude', 'latitude', 'dist'], data=data):\n",
    "    file_name = 'data_' + city_short + '_latlon.csv'\n",
    "    data_latlon = data.loc[data['city']==city, col].dropna(subset=['latitude', 'longitude'])\n",
    "    data_latlon['longitude'] = data_latlon['longitude'].astype(str)\n",
    "    data_latlon['latitude'] = data_latlon['latitude'].astype(str)\n",
    "    data_latlon['latlon'] = data_latlon['longitude'].str.cat(data_latlon['latitude'], sep=',')\n",
    "    data_latlon.to_csv(file_name, index=False)\n",
    "    print(city+'的数据一共有{}条'.format(data_latlon.shape[0]))"
   ]
  },
  {
   "cell_type": "code",
   "execution_count": null,
   "metadata": {},
   "outputs": [],
   "source": [
    "get_city_zf_loc('北京', 'bj', ['longitude','latitude', 'dist'])\n",
    "get_city_zf_loc('上海', 'sh', ['longitude','latitude', 'dist'])\n",
    "get_city_zf_loc('广州', 'gz', ['longitude','latitude', 'dist'])\n",
    "get_city_zf_loc('深圳', 'sz', ['longitude','latitude', 'dist'])"
   ]
  },
  {
   "cell_type": "code",
   "execution_count": null,
   "metadata": {},
   "outputs": [],
   "source": [
    "fig = plt.figure(dpi=300)\n",
    "data.dropna(subset=['latitude', 'longitude'])[data['city']=='北京']['dist'].value_counts(ascending=True).plot.barh()"
   ]
  },
  {
   "cell_type": "code",
   "execution_count": null,
   "metadata": {},
   "outputs": [],
   "source": [
    "fig = plt.figure(dpi=300)\n",
    "data.dropna(subset=['latitude', 'longitude'])[data['city']=='上海']['dist'].value_counts(ascending=True).plot.barh()"
   ]
  },
  {
   "cell_type": "code",
   "execution_count": null,
   "metadata": {},
   "outputs": [],
   "source": [
    "fig = plt.figure(dpi=300)\n",
    "data.dropna(subset=['latitude', 'longitude'])[data['city']=='广州']['dist'].value_counts(ascending=True).plot.barh()"
   ]
  },
  {
   "cell_type": "code",
   "execution_count": null,
   "metadata": {},
   "outputs": [],
   "source": [
    "fig = plt.figure(dpi=300)\n",
    "data.dropna(subset=['latitude', 'longitude'])[data['city']=='深圳']['dist'].value_counts(ascending=True).plot.barh()"
   ]
  },
  {
   "cell_type": "markdown",
   "metadata": {},
   "source": [
    "### 2. 城市各区域的房价分布怎么样？"
   ]
  },
  {
   "cell_type": "code",
   "execution_count": null,
   "metadata": {},
   "outputs": [],
   "source": [
    "data['aver_price'] = np.round(data['rent_price_listing'] / data['rent_area'], 1)"
   ]
  },
  {
   "cell_type": "code",
   "execution_count": null,
   "metadata": {},
   "outputs": [],
   "source": [
    "g = sns.FacetGrid(data, row=\"city\", height=4, aspect=2)\n",
    "g = g.map(sns.kdeplot, \"aver_price\")"
   ]
  },
  {
   "cell_type": "code",
   "execution_count": null,
   "metadata": {},
   "outputs": [],
   "source": [
    "# 由于平均租金基本上都集中在250元/平米/月以内，所以选取这部分数据绘制热力图\n",
    "def get_city_zf_aver_price(city, city_short, col=['longitude', 'latitude', 'aver_price'], data=data):\n",
    "    file_name = 'data_' + city_short + '_aver_price.csv'\n",
    "    data_latlon = data.loc[(data['city']==city)&(data['aver_price']<=250), col].dropna(subset=['latitude', 'longitude'])\n",
    "    data_latlon['longitude'] = data_latlon['longitude'].astype(str)\n",
    "    data_latlon['latitude'] = data_latlon['latitude'].astype(str)\n",
    "    data_latlon['latlon'] = data_latlon['longitude'].str.cat(data_latlon['latitude'], sep=',')\n",
    "    data_latlon.to_csv(file_name, index=False)\n",
    "    print(city+'的数据一共有{}条'.format(data_latlon.shape[0]))"
   ]
  },
  {
   "cell_type": "code",
   "execution_count": null,
   "metadata": {},
   "outputs": [],
   "source": [
    "get_city_zf_aver_price('北京', 'bj')\n",
    "get_city_zf_aver_price('上海', 'sh')\n",
    "get_city_zf_aver_price('广州', 'gz')\n",
    "get_city_zf_aver_price('深圳', 'sz')"
   ]
  },
  {
   "cell_type": "markdown",
   "metadata": {},
   "source": [
    "### 3. 房屋大小对每平米租金的影响如何？"
   ]
  },
  {
   "cell_type": "code",
   "execution_count": null,
   "metadata": {},
   "outputs": [],
   "source": [
    "def area_price_relation(city, data=data):\n",
    "    fig = plt.figure(dpi=100)\n",
    "    g = sns.lineplot(x=\"rent_area\",\n",
    "                     y=\"aver_price\",\n",
    "                     data=data[(data['city']==city)&(data['rent_area']<150)],\n",
    "                     ci=None)\n",
    "    g.set_xlabel('面积', fontweight='bold')\n",
    "    g.set_ylabel('每平米均价', fontweight='bold')\n",
    "    return g"
   ]
  },
  {
   "cell_type": "code",
   "execution_count": null,
   "metadata": {},
   "outputs": [],
   "source": [
    "area_price_relation('北京')"
   ]
  },
  {
   "cell_type": "code",
   "execution_count": null,
   "metadata": {},
   "outputs": [],
   "source": [
    "area_price_relation('上海')"
   ]
  },
  {
   "cell_type": "code",
   "execution_count": null,
   "metadata": {},
   "outputs": [],
   "source": [
    "area_price_relation('广州')"
   ]
  },
  {
   "cell_type": "code",
   "execution_count": null,
   "metadata": {},
   "outputs": [],
   "source": [
    "area_price_relation('深圳')"
   ]
  },
  {
   "cell_type": "code",
   "execution_count": null,
   "metadata": {},
   "outputs": [],
   "source": [
    "# 根据house_title和house_tag再造一个字段：is_dep，也就是“是否是公寓”\n",
    "data['is_dep'] = (data['house_title'].str.contains('公寓') + data['house_tag'].str.contains('公寓')) > 0"
   ]
  },
  {
   "cell_type": "code",
   "execution_count": null,
   "metadata": {},
   "outputs": [],
   "source": [
    "# 每个城市房源的公寓占比\n",
    "for city in ['北京', '上海', '广州', '深圳']:\n",
    "    print(city+'的公寓占总房源量比重为:{}%。'.format(\n",
    "        np.round(data[data['city']==city]['is_dep'].mean()*100, 2)))"
   ]
  },
  {
   "cell_type": "code",
   "execution_count": null,
   "metadata": {},
   "outputs": [],
   "source": []
  }
 ],
 "metadata": {
  "kernelspec": {
   "display_name": "Python 3",
   "language": "python",
   "name": "python3"
  },
  "language_info": {
   "codemirror_mode": {
    "name": "ipython",
    "version": 3
   },
   "file_extension": ".py",
   "mimetype": "text/x-python",
   "name": "python",
   "nbconvert_exporter": "python",
   "pygments_lexer": "ipython3",
   "version": "3.8.6"
  }
 },
 "nbformat": 4,
 "nbformat_minor": 4
}
